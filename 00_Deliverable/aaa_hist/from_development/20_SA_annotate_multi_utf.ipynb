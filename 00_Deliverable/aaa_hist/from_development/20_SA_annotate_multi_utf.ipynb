{
 "cells": [
  {
   "cell_type": "code",
   "execution_count": 4,
   "metadata": {},
   "outputs": [],
   "source": [
    "from os.path import join,exists\n",
    "from h_json import initDict\n",
    "from SA_annotationTool import *\n",
    "predictor = SamPredictor(initSam())\n",
    "\n",
    "p = 5\n",
    "plt.rcParams['figure.figsize'] = [p,p]"
   ]
  },
  {
   "cell_type": "code",
   "execution_count": 5,
   "metadata": {},
   "outputs": [],
   "source": [
    "# path to data/annotations in \"system\" format\n",
    "syspath=\"/home/dkhatanassia/detectron2_dataset\"\n",
    "\n",
    "#*************************************** datasets *****************************************\n",
    "dataset_train = 'jerry_test'\n",
    "dataset_test = 'jerry_test'\n",
    "DPI = 50\n",
    "#******************************************************************************************\n",
    "\n",
    "# root\n",
    "root_train = join(syspath,dataset_train)\n",
    "root_test = join(syspath,dataset_test)\n",
    "\n",
    "# path to images{train, test}\n",
    "imgs_train = join(root_train,'imgs')\n",
    "imgs_test = join(root_test,'imgs')\n",
    "\n",
    "# path to json{train, test}\n",
    "json_name_GT = f'GT_{dataset_test}.json'\n",
    "json_name_GT_tr = f'tr_GT_{dataset_train}.json'\n",
    "json_name_GT_te = f'te_GT_{dataset_test}.json'\n",
    "json_name_mc = f'mc_{dataset_test}.json'\n",
    "json_name_mc_tr = f'tr_mc_{dataset_train}.json'\n",
    "json_name_mc_te = f'te_mc_{dataset_test}.json'\n",
    "\n",
    "json_path_GT = join(root_test,'annotations',json_name_GT)\n",
    "json_path_GT_tr = join(root_train,'annotations',json_name_GT_tr)\n",
    "json_path_GT_te = join(root_test,'annotations',json_name_GT_te)\n",
    "json_path_mc = join(root_test,'annotations',json_name_mc)\n",
    "json_path_mc_tr = join(root_train,'annotations',json_name_mc_tr)\n",
    "json_path_mc_te = join(root_test,'annotations',json_name_mc_te)"
   ]
  },
  {
   "attachments": {},
   "cell_type": "markdown",
   "metadata": {},
   "source": [
    "When the image is displayed you can\n",
    "- click left to add (+) point\n",
    "- click right to add (-) point (unless first click, which is always (+))\n",
    "- press 'v' to validate current annotation\n",
    "- press 'c' to cancel previous annotation\n",
    "- press 'r' to remove last click    ==>     Pressing 'r' can only remove the annotation of the current annotation session \n",
    "- press 'x' to remove all displayed clicks\n",
    "- press 'q' to quit annotation process\n",
    "- press 'd' to validate current image (done) and display next one\n",
    "\n",
    "> The annotations are added to the json file after each image validation (pressed 'q' or 'd'). "
   ]
  },
  {
   "cell_type": "code",
   "execution_count": 6,
   "metadata": {},
   "outputs": [
    {
     "name": "stdout",
     "output_type": "stream",
     "text": [
      "json created at /home/dkhatanassia/detectron2_dataset/jerry_test/annotations/GT_jerry_test.json\n"
     ]
    }
   ],
   "source": [
    "json_path = json_path_GT\n",
    "image_path = imgs_test\n",
    "\n",
    "if not exists(json_path):\n",
    "    initDict(image_path, path2file=json_path)\n",
    "    \n",
    "pseudoGT_SA = annotateSA(json_path,imgs_test,predictor)"
   ]
  },
  {
   "cell_type": "code",
   "execution_count": null,
   "metadata": {},
   "outputs": [],
   "source": []
  }
 ],
 "metadata": {
  "kernelspec": {
   "display_name": "cuda0",
   "language": "python",
   "name": "python3"
  },
  "language_info": {
   "codemirror_mode": {
    "name": "ipython",
    "version": 3
   },
   "file_extension": ".py",
   "mimetype": "text/x-python",
   "name": "python",
   "nbconvert_exporter": "python",
   "pygments_lexer": "ipython3",
   "version": "3.11.3"
  },
  "orig_nbformat": 4
 },
 "nbformat": 4,
 "nbformat_minor": 2
}
